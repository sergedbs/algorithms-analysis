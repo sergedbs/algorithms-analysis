{
 "cells": [
  {
   "metadata": {},
   "cell_type": "markdown",
   "source": "# Empirical Analysis of Sorting Algorithms",
   "id": "9ca8855c6399f0ce"
  },
  {
   "metadata": {},
   "cell_type": "markdown",
   "source": "## **0. Importing Required Libraries**",
   "id": "1fb62940af32c4f0"
  },
  {
   "metadata": {
    "collapsed": true,
    "ExecuteTime": {
     "end_time": "2025-03-13T14:22:24.290051Z",
     "start_time": "2025-03-13T14:22:24.286886Z"
    }
   },
   "cell_type": "code",
   "source": "#",
   "id": "initial_id",
   "outputs": [],
   "execution_count": 158
  },
  {
   "metadata": {},
   "cell_type": "markdown",
   "source": "## **1. Introduction**",
   "id": "854fa90382731470"
  },
  {
   "metadata": {},
   "cell_type": "markdown",
   "source": "## **2. Objective**",
   "id": "318b992d0e3d95c9"
  },
  {
   "metadata": {},
   "cell_type": "markdown",
   "source": "## **3 Implementing Sorting Algorithms**",
   "id": "b3688aa06fec8d28"
  },
  {
   "metadata": {
    "ExecuteTime": {
     "end_time": "2025-03-13T14:22:24.305566Z",
     "start_time": "2025-03-13T14:22:24.303660Z"
    }
   },
   "cell_type": "code",
   "source": [
    "test_arrays = [\n",
    "    [],\n",
    "    [1],\n",
    "    [5, 3, 1, 4, 2],\n",
    "    [1, 2, 3, 4, 5],\n",
    "    [5, 4, 3, 2, 1],\n",
    "    [2, 2, 2, 2, 2],\n",
    "    [3, 1, 4, 1, 5, 9, 2],\n",
    "]"
   ],
   "id": "a67605e2cb4ca552",
   "outputs": [],
   "execution_count": 159
  },
  {
   "metadata": {
    "ExecuteTime": {
     "end_time": "2025-03-13T14:22:24.309912Z",
     "start_time": "2025-03-13T14:22:24.308229Z"
    }
   },
   "cell_type": "code",
   "source": [
    "def sort(arr, func, copy):\n",
    "        if copy:\n",
    "            array = arr.copy()\n",
    "            func(array)\n",
    "            return array\n",
    "        else:\n",
    "            return func(arr)"
   ],
   "id": "48132c155239e35b",
   "outputs": [],
   "execution_count": 160
  },
  {
   "metadata": {
    "ExecuteTime": {
     "end_time": "2025-03-13T14:22:24.320238Z",
     "start_time": "2025-03-13T14:22:24.318253Z"
    }
   },
   "cell_type": "code",
   "source": [
    "def test_sorting(arrays, func, copy=False):\n",
    "    for arr in arrays:\n",
    "        result = sort(arr, func, copy)\n",
    "        print(f\"O: {arr} \\t S: {result}\")"
   ],
   "id": "239af9965c9ead91",
   "outputs": [],
   "execution_count": 161
  },
  {
   "metadata": {},
   "cell_type": "markdown",
   "source": "### **3.1 Quick Sort**",
   "id": "865d7194cde2604d"
  },
  {
   "metadata": {
    "ExecuteTime": {
     "end_time": "2025-03-13T14:22:24.330333Z",
     "start_time": "2025-03-13T14:22:24.328392Z"
    }
   },
   "cell_type": "code",
   "source": [
    "def quick_sort(arr):\n",
    "    if len(arr) <= 1:\n",
    "        return arr\n",
    "\n",
    "    pivot = arr[len(arr) // 2]\n",
    "\n",
    "    left = [x for x in arr if x < pivot]\n",
    "    middle = [x for x in arr if x == pivot]\n",
    "    right = [x for x in arr if x > pivot]\n",
    "\n",
    "    return quick_sort(left) + middle + quick_sort(right)"
   ],
   "id": "e403c60e8e5e5504",
   "outputs": [],
   "execution_count": 162
  },
  {
   "metadata": {
    "ExecuteTime": {
     "end_time": "2025-03-13T14:22:24.337929Z",
     "start_time": "2025-03-13T14:22:24.336313Z"
    }
   },
   "cell_type": "code",
   "source": [
    "print(\"Testing Quick Sort\")\n",
    "test_sorting(test_arrays, quick_sort)"
   ],
   "id": "529844f7f36bc3ae",
   "outputs": [
    {
     "name": "stdout",
     "output_type": "stream",
     "text": [
      "Testing Quick Sort\n",
      "O: [] \t S: []\n",
      "O: [1] \t S: [1]\n",
      "O: [5, 3, 1, 4, 2] \t S: [1, 2, 3, 4, 5]\n",
      "O: [1, 2, 3, 4, 5] \t S: [1, 2, 3, 4, 5]\n",
      "O: [5, 4, 3, 2, 1] \t S: [1, 2, 3, 4, 5]\n",
      "O: [2, 2, 2, 2, 2] \t S: [2, 2, 2, 2, 2]\n",
      "O: [3, 1, 4, 1, 5, 9, 2] \t S: [1, 1, 2, 3, 4, 5, 9]\n"
     ]
    }
   ],
   "execution_count": 163
  },
  {
   "metadata": {},
   "cell_type": "markdown",
   "source": "### **3.2 Merge Sort**",
   "id": "463244946dffd651"
  },
  {
   "metadata": {
    "ExecuteTime": {
     "end_time": "2025-03-13T14:22:24.349477Z",
     "start_time": "2025-03-13T14:22:24.347410Z"
    }
   },
   "cell_type": "code",
   "source": [
    "def merge_sort(arr):\n",
    "    if len(arr) <= 1:\n",
    "        return arr\n",
    "    mid = len(arr) // 2\n",
    "    left = merge_sort(arr[:mid])\n",
    "    right = merge_sort(arr[mid:])\n",
    "    return merge(left, right)\n",
    "\n",
    "def merge(left, right):\n",
    "    result = []\n",
    "    i = j = 0\n",
    "    while i < len(left) and j < len(right):\n",
    "        if left[i] <= right[j]:\n",
    "            result.append(left[i])\n",
    "            i += 1\n",
    "        else:\n",
    "            result.append(right[j])\n",
    "            j += 1\n",
    "    result.extend(left[i:])\n",
    "    result.extend(right[j:])\n",
    "    return result"
   ],
   "id": "993c647888aee10c",
   "outputs": [],
   "execution_count": 164
  },
  {
   "metadata": {
    "ExecuteTime": {
     "end_time": "2025-03-13T14:22:24.357980Z",
     "start_time": "2025-03-13T14:22:24.356585Z"
    }
   },
   "cell_type": "code",
   "source": [
    "print(\"Testing Merge Sort\")\n",
    "test_sorting(test_arrays, merge_sort)"
   ],
   "id": "7f788f021eaf479",
   "outputs": [
    {
     "name": "stdout",
     "output_type": "stream",
     "text": [
      "Testing Merge Sort\n",
      "O: [] \t S: []\n",
      "O: [1] \t S: [1]\n",
      "O: [5, 3, 1, 4, 2] \t S: [1, 2, 3, 4, 5]\n",
      "O: [1, 2, 3, 4, 5] \t S: [1, 2, 3, 4, 5]\n",
      "O: [5, 4, 3, 2, 1] \t S: [1, 2, 3, 4, 5]\n",
      "O: [2, 2, 2, 2, 2] \t S: [2, 2, 2, 2, 2]\n",
      "O: [3, 1, 4, 1, 5, 9, 2] \t S: [1, 1, 2, 3, 4, 5, 9]\n"
     ]
    }
   ],
   "execution_count": 165
  },
  {
   "metadata": {},
   "cell_type": "markdown",
   "source": "### **3.3 Heap Sort**",
   "id": "81f34c80c4ffc759"
  },
  {
   "metadata": {
    "ExecuteTime": {
     "end_time": "2025-03-13T14:22:24.370986Z",
     "start_time": "2025-03-13T14:22:24.368774Z"
    }
   },
   "cell_type": "code",
   "source": [
    "def heapify(arr, n, i):\n",
    "    largest = i\n",
    "    l = 2 * i + 1\n",
    "    r = 2 * i + 2\n",
    "    if l < n and arr[l] > arr[largest]:\n",
    "        largest = l\n",
    "    if r < n and arr[r] > arr[largest]:\n",
    "        largest = r\n",
    "    if largest != i:\n",
    "        arr[i], arr[largest] = arr[largest], arr[i]\n",
    "        heapify(arr, n, largest)\n",
    "\n",
    "def heap_sort(arr):\n",
    "    n = len(arr)\n",
    "    for i in range(n // 2 - 1, -1, -1):\n",
    "        heapify(arr, n, i)\n",
    "    for i in range(n - 1, 0, -1):\n",
    "        arr[0], arr[i] = arr[i], arr[0]\n",
    "        heapify(arr, i, 0)"
   ],
   "id": "e3db8f488cf622e5",
   "outputs": [],
   "execution_count": 166
  },
  {
   "metadata": {
    "ExecuteTime": {
     "end_time": "2025-03-13T14:22:24.379575Z",
     "start_time": "2025-03-13T14:22:24.377887Z"
    }
   },
   "cell_type": "code",
   "source": [
    "print(\"Testing Heap Sort\")\n",
    "test_sorting(test_arrays, heap_sort, True)"
   ],
   "id": "782116a1fac0bc6e",
   "outputs": [
    {
     "name": "stdout",
     "output_type": "stream",
     "text": [
      "Testing Heap Sort\n",
      "O: [] \t S: []\n",
      "O: [1] \t S: [1]\n",
      "O: [5, 3, 1, 4, 2] \t S: [1, 2, 3, 4, 5]\n",
      "O: [1, 2, 3, 4, 5] \t S: [1, 2, 3, 4, 5]\n",
      "O: [5, 4, 3, 2, 1] \t S: [1, 2, 3, 4, 5]\n",
      "O: [2, 2, 2, 2, 2] \t S: [2, 2, 2, 2, 2]\n",
      "O: [3, 1, 4, 1, 5, 9, 2] \t S: [1, 1, 2, 3, 4, 5, 9]\n"
     ]
    }
   ],
   "execution_count": 167
  },
  {
   "metadata": {},
   "cell_type": "markdown",
   "source": "### **3.4 Insertion Sort**",
   "id": "6a6e56882e761f96"
  },
  {
   "metadata": {
    "ExecuteTime": {
     "end_time": "2025-03-13T14:22:24.389089Z",
     "start_time": "2025-03-13T14:22:24.387427Z"
    }
   },
   "cell_type": "code",
   "source": [
    "def insertion_sort(arr):\n",
    "    for i in range(1, len(arr)):\n",
    "        key = arr[i]\n",
    "        j = i - 1\n",
    "        while j >= 0 and arr[j] > key:\n",
    "            arr[j + 1] = arr[j]\n",
    "            j -= 1\n",
    "        arr[j + 1] = key"
   ],
   "id": "c384b69a502b1e4c",
   "outputs": [],
   "execution_count": 168
  },
  {
   "metadata": {
    "ExecuteTime": {
     "end_time": "2025-03-13T14:22:24.397535Z",
     "start_time": "2025-03-13T14:22:24.395437Z"
    }
   },
   "cell_type": "code",
   "source": [
    "print(\"Testing Insertion Sort\")\n",
    "test_sorting(test_arrays, insertion_sort, True)"
   ],
   "id": "d6bec57fcc568a06",
   "outputs": [
    {
     "name": "stdout",
     "output_type": "stream",
     "text": [
      "Testing Insertion Sort\n",
      "O: [] \t S: []\n",
      "O: [1] \t S: [1]\n",
      "O: [5, 3, 1, 4, 2] \t S: [1, 2, 3, 4, 5]\n",
      "O: [1, 2, 3, 4, 5] \t S: [1, 2, 3, 4, 5]\n",
      "O: [5, 4, 3, 2, 1] \t S: [1, 2, 3, 4, 5]\n",
      "O: [2, 2, 2, 2, 2] \t S: [2, 2, 2, 2, 2]\n",
      "O: [3, 1, 4, 1, 5, 9, 2] \t S: [1, 1, 2, 3, 4, 5, 9]\n"
     ]
    }
   ],
   "execution_count": 169
  },
  {
   "metadata": {},
   "cell_type": "markdown",
   "source": "## **4. Experimental Setup**",
   "id": "4bf7868a9a29153"
  },
  {
   "metadata": {
    "ExecuteTime": {
     "end_time": "2025-03-13T14:22:24.407566Z",
     "start_time": "2025-03-13T14:22:24.406080Z"
    }
   },
   "cell_type": "code",
   "source": "#",
   "id": "1cee121cb2e6ef19",
   "outputs": [],
   "execution_count": 170
  },
  {
   "metadata": {},
   "cell_type": "markdown",
   "source": "## **5. Results and Analysis**",
   "id": "f97f99a5bcebf9ff"
  },
  {
   "metadata": {},
   "cell_type": "markdown",
   "source": "## **6. Conclusion**",
   "id": "190e9e96c6f22656"
  },
  {
   "metadata": {},
   "cell_type": "markdown",
   "source": "### **6.1 Key Findings**",
   "id": "c12f9b5d1c83be7d"
  },
  {
   "metadata": {},
   "cell_type": "markdown",
   "source": "### **6.2 Choosing the Optimal Sorting Algorithm**",
   "id": "3c39a6eb75cd7745"
  },
  {
   "metadata": {},
   "cell_type": "markdown",
   "source": "### **6.3 Final Remarks**",
   "id": "eb298b89247db685"
  }
 ],
 "metadata": {
  "kernelspec": {
   "display_name": "Python 3",
   "language": "python",
   "name": "python3"
  },
  "language_info": {
   "codemirror_mode": {
    "name": "ipython",
    "version": 2
   },
   "file_extension": ".py",
   "mimetype": "text/x-python",
   "name": "python",
   "nbconvert_exporter": "python",
   "pygments_lexer": "ipython2",
   "version": "2.7.6"
  }
 },
 "nbformat": 4,
 "nbformat_minor": 5
}
