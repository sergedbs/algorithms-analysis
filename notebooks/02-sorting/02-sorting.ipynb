{
 "cells": [
  {
   "metadata": {},
   "cell_type": "markdown",
   "source": "# Empirical Analysis of Sorting Algorithms",
   "id": "9ca8855c6399f0ce"
  },
  {
   "metadata": {},
   "cell_type": "markdown",
   "source": "## **0. Importing Required Libraries**",
   "id": "1fb62940af32c4f0"
  },
  {
   "metadata": {
    "collapsed": true,
    "ExecuteTime": {
     "end_time": "2025-03-13T13:30:35.795371Z",
     "start_time": "2025-03-13T13:30:35.793166Z"
    }
   },
   "cell_type": "code",
   "source": "#",
   "id": "initial_id",
   "outputs": [],
   "execution_count": 1
  },
  {
   "metadata": {},
   "cell_type": "markdown",
   "source": "## **1. Introduction**",
   "id": "854fa90382731470"
  },
  {
   "metadata": {},
   "cell_type": "markdown",
   "source": "## **2. Objective**",
   "id": "318b992d0e3d95c9"
  },
  {
   "metadata": {},
   "cell_type": "markdown",
   "source": "## **3 Implementing Sorting Algorithms**",
   "id": "b3688aa06fec8d28"
  },
  {
   "metadata": {},
   "cell_type": "markdown",
   "source": "### **3.1 Quick Sort**",
   "id": "865d7194cde2604d"
  },
  {
   "metadata": {
    "ExecuteTime": {
     "end_time": "2025-03-13T13:30:35.799220Z",
     "start_time": "2025-03-13T13:30:35.797452Z"
    }
   },
   "cell_type": "code",
   "source": [
    "def quick_sort(arr):\n",
    "    if len(arr) <= 1:\n",
    "        return arr\n",
    "\n",
    "    pivot = arr[len(arr) // 2]\n",
    "\n",
    "    left = [x for x in arr if x < pivot]\n",
    "    middle = [x for x in arr if x == pivot]\n",
    "    right = [x for x in arr if x > pivot]\n",
    "\n",
    "    return quick_sort(left) + middle + quick_sort(right)"
   ],
   "id": "e403c60e8e5e5504",
   "outputs": [],
   "execution_count": 2
  },
  {
   "metadata": {},
   "cell_type": "markdown",
   "source": "### **3.2 Merge Sort**",
   "id": "463244946dffd651"
  },
  {
   "metadata": {
    "ExecuteTime": {
     "end_time": "2025-03-13T13:30:35.864152Z",
     "start_time": "2025-03-13T13:30:35.862006Z"
    }
   },
   "cell_type": "code",
   "source": [
    "def merge_sort(arr):\n",
    "    if len(arr) <= 1:\n",
    "        return arr\n",
    "    mid = len(arr) // 2\n",
    "    left = merge_sort(arr[:mid])\n",
    "    right = merge_sort(arr[mid:])\n",
    "    return merge(left, right)\n",
    "\n",
    "def merge(left, right):\n",
    "    result = []\n",
    "    i = j = 0\n",
    "    while i < len(left) and j < len(right):\n",
    "        if left[i] <= right[j]:\n",
    "            result.append(left[i])\n",
    "            i += 1\n",
    "        else:\n",
    "            result.append(right[j])\n",
    "            j += 1\n",
    "    result.extend(left[i:])\n",
    "    result.extend(right[j:])\n",
    "    return result"
   ],
   "id": "993c647888aee10c",
   "outputs": [],
   "execution_count": 3
  },
  {
   "metadata": {},
   "cell_type": "markdown",
   "source": "### **3.3 Heap Sort**",
   "id": "81f34c80c4ffc759"
  },
  {
   "metadata": {
    "ExecuteTime": {
     "end_time": "2025-03-13T13:30:35.869067Z",
     "start_time": "2025-03-13T13:30:35.867273Z"
    }
   },
   "cell_type": "code",
   "source": [
    "def heapify(arr, n, i):\n",
    "    largest = i\n",
    "    l = 2 * i + 1\n",
    "    r = 2 * i + 2\n",
    "    if l < n and arr[l] > arr[largest]:\n",
    "        largest = l\n",
    "    if r < n and arr[r] > arr[largest]:\n",
    "        largest = r\n",
    "    if largest != i:\n",
    "        arr[i], arr[largest] = arr[largest], arr[i]\n",
    "        heapify(arr, n, largest)\n",
    "\n",
    "def heap_sort(arr):\n",
    "    n = len(arr)\n",
    "    for i in range(n // 2 - 1, -1, -1):\n",
    "        heapify(arr, n, i)\n",
    "    for i in range(n - 1, 0, -1):\n",
    "        arr[0], arr[i] = arr[i], arr[0]\n",
    "        heapify(arr, i, 0)\n"
   ],
   "id": "e3db8f488cf622e5",
   "outputs": [],
   "execution_count": 4
  },
  {
   "metadata": {},
   "cell_type": "markdown",
   "source": "### **3.4 Insertion Sort**",
   "id": "6a6e56882e761f96"
  },
  {
   "metadata": {
    "ExecuteTime": {
     "end_time": "2025-03-13T13:30:35.873960Z",
     "start_time": "2025-03-13T13:30:35.872437Z"
    }
   },
   "cell_type": "code",
   "source": "#",
   "id": "c384b69a502b1e4c",
   "outputs": [],
   "execution_count": 5
  },
  {
   "metadata": {},
   "cell_type": "markdown",
   "source": "## **4. Experimental Setup**",
   "id": "4bf7868a9a29153"
  },
  {
   "metadata": {
    "ExecuteTime": {
     "end_time": "2025-03-13T13:30:35.878368Z",
     "start_time": "2025-03-13T13:30:35.876957Z"
    }
   },
   "cell_type": "code",
   "source": [
    "test_arrays = [\n",
    "    [],\n",
    "    [1],\n",
    "    [5, 3, 1, 4, 2],\n",
    "    [1, 2, 3, 4, 5],\n",
    "    [5, 4, 3, 2, 1],\n",
    "    [2, 2, 2, 2, 2],\n",
    "    [3, 1, 4, 1, 5, 9, 2],\n",
    "]"
   ],
   "id": "a67605e2cb4ca552",
   "outputs": [],
   "execution_count": 6
  },
  {
   "metadata": {
    "ExecuteTime": {
     "end_time": "2025-03-13T13:30:35.886257Z",
     "start_time": "2025-03-13T13:30:35.884258Z"
    }
   },
   "cell_type": "code",
   "source": [
    "for arr in test_arrays:\n",
    "    print(f\"Original: {arr}\")\n",
    "    print(f\"Quick Sort: {quick_sort(arr)}\")\n",
    "    print(f\"Merge Sort: {merge_sort(arr)}\")\n",
    "    print(f\"Heap Sort: {heap_sort(arr)}\")\n",
    "    print(\"--------------------------------\")"
   ],
   "id": "1cee121cb2e6ef19",
   "outputs": [
    {
     "name": "stdout",
     "output_type": "stream",
     "text": [
      "Original: []\n",
      "Quick Sort: []\n",
      "Merge Sort: []\n",
      "Heap Sort: None\n",
      "--------------------------------\n",
      "Original: [1]\n",
      "Quick Sort: [1]\n",
      "Merge Sort: [1]\n",
      "Heap Sort: None\n",
      "--------------------------------\n",
      "Original: [5, 3, 1, 4, 2]\n",
      "Quick Sort: [1, 2, 3, 4, 5]\n",
      "Merge Sort: [1, 2, 3, 4, 5]\n",
      "Heap Sort: None\n",
      "--------------------------------\n",
      "Original: [1, 2, 3, 4, 5]\n",
      "Quick Sort: [1, 2, 3, 4, 5]\n",
      "Merge Sort: [1, 2, 3, 4, 5]\n",
      "Heap Sort: None\n",
      "--------------------------------\n",
      "Original: [5, 4, 3, 2, 1]\n",
      "Quick Sort: [1, 2, 3, 4, 5]\n",
      "Merge Sort: [1, 2, 3, 4, 5]\n",
      "Heap Sort: None\n",
      "--------------------------------\n",
      "Original: [2, 2, 2, 2, 2]\n",
      "Quick Sort: [2, 2, 2, 2, 2]\n",
      "Merge Sort: [2, 2, 2, 2, 2]\n",
      "Heap Sort: None\n",
      "--------------------------------\n",
      "Original: [3, 1, 4, 1, 5, 9, 2]\n",
      "Quick Sort: [1, 1, 2, 3, 4, 5, 9]\n",
      "Merge Sort: [1, 1, 2, 3, 4, 5, 9]\n",
      "Heap Sort: None\n",
      "--------------------------------\n"
     ]
    }
   ],
   "execution_count": 7
  },
  {
   "metadata": {},
   "cell_type": "markdown",
   "source": "## **5. Results and Analysis**",
   "id": "f97f99a5bcebf9ff"
  },
  {
   "metadata": {},
   "cell_type": "markdown",
   "source": "## **6. Conclusion**",
   "id": "190e9e96c6f22656"
  },
  {
   "metadata": {},
   "cell_type": "markdown",
   "source": "### **6.1 Key Findings**",
   "id": "c12f9b5d1c83be7d"
  },
  {
   "metadata": {},
   "cell_type": "markdown",
   "source": "### **6.2 Choosing the Optimal Sorting Algorithm**",
   "id": "3c39a6eb75cd7745"
  },
  {
   "metadata": {},
   "cell_type": "markdown",
   "source": "### **6.3 Final Remarks**",
   "id": "eb298b89247db685"
  }
 ],
 "metadata": {
  "kernelspec": {
   "display_name": "Python 3",
   "language": "python",
   "name": "python3"
  },
  "language_info": {
   "codemirror_mode": {
    "name": "ipython",
    "version": 2
   },
   "file_extension": ".py",
   "mimetype": "text/x-python",
   "name": "python",
   "nbconvert_exporter": "python",
   "pygments_lexer": "ipython2",
   "version": "2.7.6"
  }
 },
 "nbformat": 4,
 "nbformat_minor": 5
}
