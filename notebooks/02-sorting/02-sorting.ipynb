{
 "cells": [
  {
   "metadata": {},
   "cell_type": "markdown",
   "source": "# Empirical Analysis of Sorting Algorithms",
   "id": "9ca8855c6399f0ce"
  },
  {
   "metadata": {},
   "cell_type": "markdown",
   "source": "## **0. Importing Required Libraries**",
   "id": "1fb62940af32c4f0"
  },
  {
   "metadata": {
    "collapsed": true
   },
   "cell_type": "code",
   "source": [
    "from src.utils import generate_test_inputs, create_directory, export_results, sort\n",
    "from src.timing import measure_execution_time\n",
    "from src.performance import test_algorithm_performance\n",
    "from src.plotting import plot_performance_graphs"
   ],
   "id": "initial_id",
   "outputs": [],
   "execution_count": null
  },
  {
   "metadata": {},
   "cell_type": "code",
   "source": [
    "# Define the directory path for storing the results\n",
    "directory_path = \"result\"\n",
    "\n",
    "# Create a directory to store the results\n",
    "create_directory(directory_path)\n",
    "\n",
    "# Define the directory path for storing the plots\n",
    "plots_path = f\"{directory_path}/plots\"\n",
    "\n",
    "# Create a directory to store the plots\n",
    "create_directory(plots_path)"
   ],
   "id": "d8eebe22da4bfc25",
   "outputs": [],
   "execution_count": null
  },
  {
   "metadata": {},
   "cell_type": "markdown",
   "source": "## **1. Introduction**",
   "id": "854fa90382731470"
  },
  {
   "metadata": {},
   "cell_type": "markdown",
   "source": "## **2. Objective**",
   "id": "318b992d0e3d95c9"
  },
  {
   "metadata": {},
   "cell_type": "markdown",
   "source": "## **3 Implementing Sorting Algorithms**",
   "id": "b3688aa06fec8d28"
  },
  {
   "metadata": {},
   "cell_type": "code",
   "source": [
    "test_arrays = [\n",
    "    [],\n",
    "    [1],\n",
    "    [5, 3, 1, 4, 2],\n",
    "    [1, 2, 3, 4, 5],\n",
    "    [5, 4, 3, 2, 1],\n",
    "    [2, 2, 2, 2, 2],\n",
    "    [3, 1, 4, 1, 5, 9, 2],\n",
    "]"
   ],
   "id": "a67605e2cb4ca552",
   "outputs": [],
   "execution_count": null
  },
  {
   "metadata": {},
   "cell_type": "code",
   "source": [
    "def test_sorting(arrays, func, copy=False):\n",
    "    for arr in arrays:\n",
    "        result = sort(arr, func, copy)\n",
    "        print(f\"O: {arr} \\t S: {result}\")"
   ],
   "id": "239af9965c9ead91",
   "outputs": [],
   "execution_count": null
  },
  {
   "metadata": {},
   "cell_type": "markdown",
   "source": "### **3.1 Quick Sort**",
   "id": "865d7194cde2604d"
  },
  {
   "metadata": {},
   "cell_type": "code",
   "source": [
    "def quick_sort(arr):\n",
    "    if len(arr) <= 1:\n",
    "        return arr\n",
    "\n",
    "    pivot = arr[len(arr) // 2]\n",
    "\n",
    "    left = [x for x in arr if x < pivot]\n",
    "    middle = [x for x in arr if x == pivot]\n",
    "    right = [x for x in arr if x > pivot]\n",
    "\n",
    "    return quick_sort(left) + middle + quick_sort(right)"
   ],
   "id": "e403c60e8e5e5504",
   "outputs": [],
   "execution_count": null
  },
  {
   "metadata": {},
   "cell_type": "code",
   "source": [
    "print(\"Testing Quick Sort\")\n",
    "test_sorting(test_arrays, quick_sort)"
   ],
   "id": "529844f7f36bc3ae",
   "outputs": [],
   "execution_count": null
  },
  {
   "metadata": {},
   "cell_type": "markdown",
   "source": "### **3.2 Merge Sort**",
   "id": "463244946dffd651"
  },
  {
   "metadata": {},
   "cell_type": "code",
   "source": [
    "def merge_sort(arr):\n",
    "    if len(arr) <= 1:\n",
    "        return arr\n",
    "    mid = len(arr) // 2\n",
    "    left = merge_sort(arr[:mid])\n",
    "    right = merge_sort(arr[mid:])\n",
    "    return merge(left, right)\n",
    "\n",
    "def merge(left, right):\n",
    "    result = []\n",
    "    i = j = 0\n",
    "    while i < len(left) and j < len(right):\n",
    "        if left[i] <= right[j]:\n",
    "            result.append(left[i])\n",
    "            i += 1\n",
    "        else:\n",
    "            result.append(right[j])\n",
    "            j += 1\n",
    "    result.extend(left[i:])\n",
    "    result.extend(right[j:])\n",
    "    return result"
   ],
   "id": "993c647888aee10c",
   "outputs": [],
   "execution_count": null
  },
  {
   "metadata": {},
   "cell_type": "code",
   "source": [
    "print(\"Testing Merge Sort\")\n",
    "test_sorting(test_arrays, merge_sort)"
   ],
   "id": "7f788f021eaf479",
   "outputs": [],
   "execution_count": null
  },
  {
   "metadata": {},
   "cell_type": "markdown",
   "source": "### **3.3 Heap Sort**",
   "id": "81f34c80c4ffc759"
  },
  {
   "metadata": {},
   "cell_type": "code",
   "source": [
    "def heapify(arr, n, i):\n",
    "    largest = i\n",
    "    l = 2 * i + 1\n",
    "    r = 2 * i + 2\n",
    "    if l < n and arr[l] > arr[largest]:\n",
    "        largest = l\n",
    "    if r < n and arr[r] > arr[largest]:\n",
    "        largest = r\n",
    "    if largest != i:\n",
    "        arr[i], arr[largest] = arr[largest], arr[i]\n",
    "        heapify(arr, n, largest)\n",
    "\n",
    "def heap_sort(arr):\n",
    "    n = len(arr)\n",
    "    for i in range(n // 2 - 1, -1, -1):\n",
    "        heapify(arr, n, i)\n",
    "    for i in range(n - 1, 0, -1):\n",
    "        arr[0], arr[i] = arr[i], arr[0]\n",
    "        heapify(arr, i, 0)"
   ],
   "id": "e3db8f488cf622e5",
   "outputs": [],
   "execution_count": null
  },
  {
   "metadata": {},
   "cell_type": "code",
   "source": [
    "print(\"Testing Heap Sort\")\n",
    "test_sorting(test_arrays, heap_sort, True)"
   ],
   "id": "782116a1fac0bc6e",
   "outputs": [],
   "execution_count": null
  },
  {
   "metadata": {},
   "cell_type": "markdown",
   "source": "### **3.4 Insertion Sort**",
   "id": "6a6e56882e761f96"
  },
  {
   "metadata": {},
   "cell_type": "code",
   "source": [
    "def insertion_sort(arr):\n",
    "    if len(arr) > 1000:\n",
    "        return []\n",
    "    for i in range(1, len(arr)):\n",
    "        key = arr[i]\n",
    "        j = i - 1\n",
    "        while j >= 0 and arr[j] > key:\n",
    "            arr[j + 1] = arr[j]\n",
    "            j -= 1\n",
    "        arr[j + 1] = key"
   ],
   "id": "c384b69a502b1e4c",
   "outputs": [],
   "execution_count": null
  },
  {
   "metadata": {},
   "cell_type": "code",
   "source": [
    "print(\"Testing Insertion Sort\")\n",
    "test_sorting(test_arrays, insertion_sort, True)"
   ],
   "id": "d6bec57fcc568a06",
   "outputs": [],
   "execution_count": null
  },
  {
   "metadata": {},
   "cell_type": "markdown",
   "source": "## **4. Experimental Setup**",
   "id": "4bf7868a9a29153"
  },
  {
   "metadata": {},
   "cell_type": "code",
   "source": [
    "small_sizes = list(range(10, 999, 10))\n",
    "large_sizes = list(range(1000, 20001, 100))\n",
    "sizes = small_sizes + large_sizes\n",
    "print(sizes)"
   ],
   "id": "1cee121cb2e6ef19",
   "outputs": [],
   "execution_count": null
  },
  {
   "metadata": {},
   "cell_type": "code",
   "source": [
    "input_types = [\"sorted\", \"reversed\", \"random\", \"duplicates\"]\n",
    "dataset = generate_test_inputs(sizes, input_types)"
   ],
   "id": "95192aaf6892c253",
   "outputs": [],
   "execution_count": null
  },
  {
   "metadata": {},
   "cell_type": "code",
   "source": [
    "sorting_methods = {\n",
    "    \"Quick Sort\": {\"func\": quick_sort, \"copy\": False, \"is_slow\": False},\n",
    "    \"Merge Sort\": {\"func\": merge_sort, \"copy\": False, \"is_slow\": False},\n",
    "    \"Heap Sort\": {\"func\": heap_sort, \"copy\": True, \"is_slow\": False},\n",
    "    \"Python Sort\": {\"func\": sorted, \"copy\": False, \"is_slow\": False},\n",
    "    \"Insertion Sort\": {\"func\": insertion_sort, \"copy\": True, \"is_slow\": True}\n",
    "}\n",
    "\n",
    "fast_sorting_methods = [algo for algo in sorting_methods.keys()\n",
    "                        if not sorting_methods[algo][\"is_slow\"]]"
   ],
   "id": "383a97cea460b633",
   "outputs": [],
   "execution_count": null
  },
  {
   "metadata": {},
   "cell_type": "code",
   "source": [
    "# Define a wrapper for each sorting algorithm to make them compatible\n",
    "# with the test_algorithm_performance function\n",
    "\n",
    "def create_sorting_test_functions(input_type, dataset):\n",
    "    \"\"\"\n",
    "    Create test functions for each sorting algorithm that can be used with test_algorithm_performance.\n",
    "\n",
    "    :param input_type: Type of input data (\"sorted\", \"reversed\", \"random\", \"duplicates\")\n",
    "    :type input_type: str\n",
    "    :param dataset: Dataset containing different arrays to sort\n",
    "    :type dataset: Dict[str, Dict[int, List[int]]]\n",
    "\n",
    "    :return: Dictionary of algorithm names to test functions\n",
    "    :rtype: Dict[str, Callable]\n",
    "    \"\"\"\n",
    "    sorting_functions = {}\n",
    "\n",
    "    # Loop through each sorting method and create a wrapper function\n",
    "    for name, config in sorting_methods.items():\n",
    "        def test_func(n, algo_name=name, data_type=input_type):\n",
    "            # Get the right array for this size\n",
    "            arr = dataset[data_type][n]\n",
    "            # Get the algorithm and copy settings\n",
    "            algo_config = sorting_methods[algo_name]\n",
    "            # Run the sorting with the sort wrapper from utils\n",
    "            return sort(arr, algo_config[\"func\"], copy=algo_config[\"copy\"])\n",
    "\n",
    "        # Add the function to our dictionary with a descriptive name\n",
    "        sorting_functions[f\"{name}\"] = test_func\n",
    "\n",
    "    return sorting_functions\n",
    "\n",
    "# Run performance tests for each input type\n",
    "all_results = {}\n",
    "\n",
    "for input_type in input_types:\n",
    "    print(f\"Testing with {input_type} arrays...\")\n",
    "\n",
    "    # Create test functions for this input type\n",
    "    sorting_tests = create_sorting_test_functions(input_type, dataset)\n",
    "\n",
    "    # Run the performance test\n",
    "    df_results = test_algorithm_performance(\n",
    "        algorithms=sorting_tests,\n",
    "        test_values=sizes,\n",
    "        param_name=\"Size\",\n",
    "        trials=5\n",
    "    )\n",
    "\n",
    "    # Save results for this input type\n",
    "    all_results[input_type] = df_results\n",
    "    export_results(df_results, directory_path, f\"sorting_{input_type}\")\n",
    "\n",
    "    # Plot results\n",
    "    plot_performance_graphs(\n",
    "        df=df_results,\n",
    "        path=f\"{plots_path}/{input_type}\",\n",
    "        param_name=\"Size\",\n",
    "        title_prefix=f\"Sorting Algorithms ({input_type} arrays)\",\n",
    "        filename_prefix=f\"sorting_{input_type}\",\n",
    "        all_algorithms=list(sorting_methods.keys()),\n",
    "        display_plots=True,\n",
    "        plot_types=[\"log\", \"linear\"]\n",
    "    )\n",
    "\n",
    "print(\"Performance testing complete!\")"
   ],
   "id": "7140ee9d7a17e8a8",
   "outputs": [],
   "execution_count": null
  },
  {
   "metadata": {},
   "cell_type": "markdown",
   "source": "## **5. Results and Analysis**",
   "id": "f97f99a5bcebf9ff"
  },
  {
   "metadata": {},
   "cell_type": "markdown",
   "source": "## **6. Conclusion**",
   "id": "190e9e96c6f22656"
  },
  {
   "metadata": {},
   "cell_type": "markdown",
   "source": "### **6.1 Key Findings**",
   "id": "c12f9b5d1c83be7d"
  },
  {
   "metadata": {},
   "cell_type": "markdown",
   "source": "### **6.2 Choosing the Optimal Sorting Algorithm**",
   "id": "3c39a6eb75cd7745"
  },
  {
   "metadata": {},
   "cell_type": "markdown",
   "source": "### **6.3 Final Remarks**",
   "id": "eb298b89247db685"
  }
 ],
 "metadata": {
  "kernelspec": {
   "display_name": "Python 3",
   "language": "python",
   "name": "python3"
  },
  "language_info": {
   "codemirror_mode": {
    "name": "ipython",
    "version": 2
   },
   "file_extension": ".py",
   "mimetype": "text/x-python",
   "name": "python",
   "nbconvert_exporter": "python",
   "pygments_lexer": "ipython2",
   "version": "2.7.6"
  }
 },
 "nbformat": 4,
 "nbformat_minor": 5
}
