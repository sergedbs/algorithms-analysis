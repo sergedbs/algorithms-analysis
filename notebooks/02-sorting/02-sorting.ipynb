{
 "cells": [
  {
   "metadata": {},
   "cell_type": "markdown",
   "source": "# Empirical Analysis of Sorting Algorithms",
   "id": "9ca8855c6399f0ce"
  },
  {
   "metadata": {},
   "cell_type": "markdown",
   "source": "## **0. Importing Required Libraries**",
   "id": "1fb62940af32c4f0"
  },
  {
   "metadata": {
    "collapsed": true,
    "ExecuteTime": {
     "end_time": "2025-03-13T11:18:45.136947Z",
     "start_time": "2025-03-13T11:18:45.131464Z"
    }
   },
   "cell_type": "code",
   "source": "#",
   "id": "initial_id",
   "outputs": [],
   "execution_count": 11
  },
  {
   "metadata": {},
   "cell_type": "markdown",
   "source": "## **1. Introduction**",
   "id": "854fa90382731470"
  },
  {
   "metadata": {},
   "cell_type": "markdown",
   "source": "## **2. Objective**",
   "id": "318b992d0e3d95c9"
  },
  {
   "metadata": {},
   "cell_type": "markdown",
   "source": "## **3 Implementing Sorting Algorithms**",
   "id": "b3688aa06fec8d28"
  },
  {
   "metadata": {},
   "cell_type": "markdown",
   "source": "### **3.1 Quick Sort**",
   "id": "865d7194cde2604d"
  },
  {
   "metadata": {
    "ExecuteTime": {
     "end_time": "2025-03-13T11:18:45.156472Z",
     "start_time": "2025-03-13T11:18:45.153086Z"
    }
   },
   "cell_type": "code",
   "source": [
    "def quicksort(arr):\n",
    "    if len(arr) <= 1:\n",
    "        return arr\n",
    "\n",
    "    pivot = arr[len(arr) // 2]\n",
    "\n",
    "    left = [x for x in arr if x < pivot]\n",
    "    middle = [x for x in arr if x == pivot]\n",
    "    right = [x for x in arr if x > pivot]\n",
    "\n",
    "    return quicksort(left) + middle + quicksort(right)"
   ],
   "id": "e403c60e8e5e5504",
   "outputs": [],
   "execution_count": 12
  },
  {
   "metadata": {},
   "cell_type": "markdown",
   "source": "### **3.2 Merge Sort**",
   "id": "463244946dffd651"
  },
  {
   "metadata": {
    "ExecuteTime": {
     "end_time": "2025-03-13T11:18:45.162052Z",
     "start_time": "2025-03-13T11:18:45.160619Z"
    }
   },
   "cell_type": "code",
   "source": "#",
   "id": "993c647888aee10c",
   "outputs": [],
   "execution_count": 13
  },
  {
   "metadata": {},
   "cell_type": "markdown",
   "source": "### **3.3 Heap Sort**",
   "id": "81f34c80c4ffc759"
  },
  {
   "metadata": {
    "ExecuteTime": {
     "end_time": "2025-03-13T11:18:45.168745Z",
     "start_time": "2025-03-13T11:18:45.167051Z"
    }
   },
   "cell_type": "code",
   "source": "#",
   "id": "e3db8f488cf622e5",
   "outputs": [],
   "execution_count": 14
  },
  {
   "metadata": {},
   "cell_type": "markdown",
   "source": "### **3.4 Insertion Sort**",
   "id": "6a6e56882e761f96"
  },
  {
   "metadata": {
    "ExecuteTime": {
     "end_time": "2025-03-13T11:18:45.173737Z",
     "start_time": "2025-03-13T11:18:45.172314Z"
    }
   },
   "cell_type": "code",
   "source": "#",
   "id": "c384b69a502b1e4c",
   "outputs": [],
   "execution_count": 15
  },
  {
   "metadata": {},
   "cell_type": "markdown",
   "source": "## **4. Experimental Setup**",
   "id": "4bf7868a9a29153"
  },
  {
   "metadata": {
    "ExecuteTime": {
     "end_time": "2025-03-13T11:18:45.179911Z",
     "start_time": "2025-03-13T11:18:45.178322Z"
    }
   },
   "cell_type": "code",
   "source": [
    "test_arrays = [\n",
    "    [],\n",
    "    [1],\n",
    "    [5, 3, 1, 4, 2],\n",
    "    [1, 2, 3, 4, 5],\n",
    "    [5, 4, 3, 2, 1],\n",
    "    [2, 2, 2, 2, 2],\n",
    "    [3, 1, 4, 1, 5, 9, 2],\n",
    "]"
   ],
   "id": "a67605e2cb4ca552",
   "outputs": [],
   "execution_count": 16
  },
  {
   "metadata": {
    "ExecuteTime": {
     "end_time": "2025-03-13T11:19:41.214665Z",
     "start_time": "2025-03-13T11:19:41.211948Z"
    }
   },
   "cell_type": "code",
   "source": [
    "for arr in test_arrays:\n",
    "    print(f\"Original: {arr}\")\n",
    "    print(f\"Quick Sort: {quicksort(arr)}\")\n",
    "    print(\"--------------------------------\")"
   ],
   "id": "1cee121cb2e6ef19",
   "outputs": [
    {
     "name": "stdout",
     "output_type": "stream",
     "text": [
      "Original: []\n",
      "Quick Sort: []\n",
      "--------------------------------\n",
      "Original: [1]\n",
      "Quick Sort: [1]\n",
      "--------------------------------\n",
      "Original: [5, 3, 1, 4, 2]\n",
      "Quick Sort: [1, 2, 3, 4, 5]\n",
      "--------------------------------\n",
      "Original: [1, 2, 3, 4, 5]\n",
      "Quick Sort: [1, 2, 3, 4, 5]\n",
      "--------------------------------\n",
      "Original: [5, 4, 3, 2, 1]\n",
      "Quick Sort: [1, 2, 3, 4, 5]\n",
      "--------------------------------\n",
      "Original: [2, 2, 2, 2, 2]\n",
      "Quick Sort: [2, 2, 2, 2, 2]\n",
      "--------------------------------\n",
      "Original: [3, 1, 4, 1, 5, 9, 2]\n",
      "Quick Sort: [1, 1, 2, 3, 4, 5, 9]\n",
      "--------------------------------\n"
     ]
    }
   ],
   "execution_count": 18
  },
  {
   "metadata": {},
   "cell_type": "markdown",
   "source": "## **5. Results and Analysis**",
   "id": "f97f99a5bcebf9ff"
  },
  {
   "metadata": {},
   "cell_type": "markdown",
   "source": "## **6. Conclusion**",
   "id": "190e9e96c6f22656"
  },
  {
   "metadata": {},
   "cell_type": "markdown",
   "source": "### **6.1 Key Findings**",
   "id": "c12f9b5d1c83be7d"
  },
  {
   "metadata": {},
   "cell_type": "markdown",
   "source": "### **6.2 Choosing the Optimal Sorting Algorithm**",
   "id": "3c39a6eb75cd7745"
  },
  {
   "metadata": {},
   "cell_type": "markdown",
   "source": "### **6.3 Final Remarks**",
   "id": "eb298b89247db685"
  }
 ],
 "metadata": {
  "kernelspec": {
   "display_name": "Python 3",
   "language": "python",
   "name": "python3"
  },
  "language_info": {
   "codemirror_mode": {
    "name": "ipython",
    "version": 2
   },
   "file_extension": ".py",
   "mimetype": "text/x-python",
   "name": "python",
   "nbconvert_exporter": "python",
   "pygments_lexer": "ipython2",
   "version": "2.7.6"
  }
 },
 "nbformat": 4,
 "nbformat_minor": 5
}
