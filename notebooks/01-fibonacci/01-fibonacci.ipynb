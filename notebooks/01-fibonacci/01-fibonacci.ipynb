{
 "cells": [
  {
   "cell_type": "markdown",
   "id": "c91b1e72d5eae96",
   "metadata": {},
   "source": [
    "# Empirical Analysis of Fibonacci Algorithms\n",
    "\n",
    "The Fibonacci sequence is a well-known mathematical concept that has applications in various fields, including computer science, finance, and nature. In this notebook, we will explore different algorithms for computing the Fibonacci sequence and analyze their performance characteristics."
   ]
  },
  {
   "metadata": {},
   "cell_type": "markdown",
   "source": [
    "## **0. Set up the Environment**\n",
    "\n",
    "Before we begin, we need to set up the environment by importing the necessary libraries, defining the environment variables, and configuring the notebook."
   ],
   "id": "7c5969af93897aed"
  },
  {
   "cell_type": "markdown",
   "id": "3328112ba09072be",
   "metadata": {},
   "source": [
    "### **0.1 Importing the Required Libraries**\n",
    "\n",
    "The following libraries are imported to facilitate the implementation and analysis of the Fibonacci algorithms:\n",
    "\n",
    "- `gc`: Used for garbage collection to manage memory.\n",
    "- `os`: Provides functions to interact with the operating system, such as file path manipulations.\n",
    "- `time`: Used for measuring the execution time of the algorithms.\n",
    "- `matplotlib.pyplot`: Used for plotting graphs to visualize the performance of the algorithms.\n",
    "- `numpy`: Provides support for numerical operations, including the calculation of Binet's formula.\n",
    "- `pandas`: Utilized for creating and manipulating dataframes to store and analyze results.\n",
    "- `IPython.display`: Facilitates the display of widgets and other outputs in the notebook.\n",
    "- `tqdm.notebook`: Used for creating progress bars to track the progress of the experiments.\n",
    "- `decimal`: Provides support for fast and correctly-rounded decimal floating point arithmetic."
   ]
  },
  {
   "cell_type": "code",
   "id": "d075fb0ba44d6e2f",
   "metadata": {},
   "source": [
    "import numpy as np\n",
    "from IPython.display import display\n",
    "from decimal import Decimal, getcontext\n",
    "\n",
    "from src.performance import test_algorithm_performance\n",
    "from src.utils import create_directory, export_results\n",
    "from src.plotting import plot_performance_graphs"
   ],
   "outputs": [],
   "execution_count": null
  },
  {
   "metadata": {},
   "cell_type": "markdown",
   "source": [
    "### **0.2 Defining the Environment Variables**\n",
    "\n",
    "We define the directory paths for storing the results and plots generated during the analysis."
   ],
   "id": "d9e75ae81b523f92"
  },
  {
   "metadata": {},
   "cell_type": "code",
   "source": [
    "# Define the directory path for storing the results\n",
    "directory_path = \"result\"\n",
    "\n",
    "# Create a directory to store the results\n",
    "create_directory(directory_path)\n",
    "\n",
    "# Define the directory path for storing the plots\n",
    "plots_path = f\"{directory_path}/plots\"\n",
    "\n",
    "# Create a directory to store the plots\n",
    "create_directory(plots_path)"
   ],
   "id": "40e76b829d6c607b",
   "outputs": [],
   "execution_count": null
  },
  {
   "cell_type": "markdown",
   "id": "b5c71436b3693a52",
   "metadata": {},
   "source": [
    "## **1. Introduction**\n",
    "The Fibonacci sequence is a fundamental mathematical concept with applications in computer science, cryptography, and numerical analysis. It is defined recursively as:\n",
    "\n",
    "$$\n",
    "F(n) =\n",
    "\\begin{cases}\n",
    "    0, & n = 0 \\\\\n",
    "    1, & n = 1 \\\\\n",
    "    F(n-1) + F(n-2), & n \\geq 2\n",
    "\\end{cases}\n",
    "$$\n",
    "\n",
    "Computing the Fibonacci sequence efficiently is crucial in algorithm design, as different methods exhibit varying performance characteristics. This study aims to empirically analyze and compare six different approaches to computing the Fibonacci sequence in terms of execution time."
   ]
  },
  {
   "cell_type": "markdown",
   "id": "162e8249dca9ccd1",
   "metadata": {},
   "source": [
    "## **2. Objectives**\n",
    "The primary objectives of this laboratory work are:\n",
    "- To implement and compare eight Fibonacci algorithms.\n",
    "- To analyze the empirical performance of each algorithm.\n",
    "- To determine the most efficient method for different input sizes.\n",
    "- To visualize execution time trends using graphical representations."
   ]
  },
  {
   "cell_type": "markdown",
   "id": "aef95e50e30e50d1",
   "metadata": {},
   "source": [
    "## **3. Implementing Fibonacci Methods**\n",
    "\n",
    "The following eight methods for computing the Fibonacci sequence are implemented and analyzed:"
   ]
  },
  {
   "cell_type": "markdown",
   "id": "76d8b998c6b0ff4d",
   "metadata": {},
   "source": [
    "### **3.1 Naïve Recursive Approach (Exponential $O(2^n)$)**\n",
    "This method directly implements the recursive Fibonacci formula.\n",
    "\n",
    "- **Inefficient for large $n$** due to redundant calculations.\n",
    "- Demonstrates **exponential time complexity**.\n",
    "\n",
    "> **Time Complexity**: $O(2^n)$ - Exponential\n",
    ">\n",
    "> **Space Complexity**: $O(n)$ - Due to recursive call stack\n"
   ]
  },
  {
   "cell_type": "code",
   "id": "initial_id",
   "metadata": {
    "collapsed": true,
    "jupyter": {
     "outputs_hidden": true
    }
   },
   "source": [
    "def fib_recursive(n):\n",
    "    if n > 35:\n",
    "        return -1\n",
    "    if n <= 1:\n",
    "        return n\n",
    "    return fib_recursive(n - 1) + fib_recursive(n - 2)"
   ],
   "outputs": [],
   "execution_count": null
  },
  {
   "cell_type": "code",
   "id": "fef7c37cfa28af60",
   "metadata": {},
   "source": [
    "# Test the recursive function with n = 10\n",
    "print(fib_recursive(10))  # Output: 55"
   ],
   "outputs": [],
   "execution_count": null
  },
  {
   "cell_type": "markdown",
   "id": "54c8f5d9e6f34e81",
   "metadata": {},
   "source": [
    "### **3.2 Recursive with Memoization (Top-Down DP, $O(n)$)**\n",
    "\n",
    "This method avoids redundant calculations by storing previously computed values. It uses a dictionary to store Fibonacci values, reducing time complexity from $O(2^n)$ to $O(n)$.\n",
    "\n",
    "- Stores previously computed values to avoid redundant calculations.\n",
    "- Significantly improves efficiency over naive recursion.\n",
    "\n",
    "> **Time Complexity**: $O(n)$ - Linear\n",
    ">\n",
    "> **Space Complexity**: $O(n)$ - Due to recursive call stack and memoization dictionary"
   ]
  },
  {
   "cell_type": "code",
   "id": "68b121ba09ce4033",
   "metadata": {},
   "source": [
    "def fib_memoized(n, memo=None):\n",
    "    if n > 2000:\n",
    "        return -1\n",
    "    if memo is None:\n",
    "        memo = {}\n",
    "    if n in memo:\n",
    "        return memo[n]\n",
    "    if n <= 1:\n",
    "        return n\n",
    "    memo[n] = fib_memoized(n - 1, memo) + fib_memoized(n - 2, memo)\n",
    "    return memo[n]"
   ],
   "outputs": [],
   "execution_count": null
  },
  {
   "cell_type": "code",
   "id": "26037d0fa82d63ee",
   "metadata": {},
   "source": [
    "# Test the memoized function with n = 10\n",
    "print(fib_memoized(10))  # Output: 55"
   ],
   "outputs": [],
   "execution_count": null
  },
  {
   "cell_type": "markdown",
   "id": "491090965d0ef479",
   "metadata": {},
   "source": [
    "### **3.3 Iterative Dynamic Programming (Bottom-Up DP, $O(n)$)**\n",
    "\n",
    "This method builds the Fibonacci sequence iteratively, avoiding recursion overhead. It uses a list to store computed values, reducing time complexity to $O(n)$.\n",
    "\n",
    "- Builds the Fibonacci sequence iteratively using an array.\n",
    "- Eliminates recursion overhead but uses $O(n)$ space.\n",
    "\n",
    "> **Time Complexity**: $O(n)$ - Linear\n",
    ">\n",
    "> **Space Complexity**: $O(n)$ - Due to storing computed Fibonacci values"
   ]
  },
  {
   "cell_type": "code",
   "id": "bfa638a130c2620f",
   "metadata": {},
   "source": [
    "def fib_iterative(n):\n",
    "    if n <= 1:\n",
    "        return n\n",
    "    fib = [0, 1]\n",
    "    for i in range(2, n + 1):\n",
    "        fib.append(fib[i - 1] + fib[i - 2])\n",
    "    return fib[n]"
   ],
   "outputs": [],
   "execution_count": null
  },
  {
   "cell_type": "code",
   "id": "51178087123f9a05",
   "metadata": {},
   "source": [
    "# Test the iterative function with n = 10\n",
    "print(fib_iterative(10))  # Output: 55"
   ],
   "outputs": [],
   "execution_count": null
  },
  {
   "cell_type": "markdown",
   "id": "4aae32a3f6a1549a",
   "metadata": {},
   "source": [
    "### **3.4 Matrix Exponentiation (Logarithmic $O(\\log n)$)**\n",
    "\n",
    "This method leverages matrix multiplication to achieve an efficient \\(O(\\log n)\\) complexity. Based on the transformation:\n",
    "\n",
    "$$\n",
    "\\begin{bmatrix}\n",
    "F(n) \\\\\n",
    "F(n-1)\n",
    "\\end{bmatrix}\n",
    "=\n",
    "\\begin{bmatrix}\n",
    "0 & 1 \\\\\n",
    "1 & 1\n",
    "\\end{bmatrix}^n\n",
    "\\cdot\n",
    "\\begin{bmatrix}\n",
    "F(0) \\\\\n",
    "F(1)\n",
    "\\end{bmatrix}\n",
    "$$\n",
    "\n",
    "- Uses matrix multiplication to compute Fibonacci numbers efficiently.\n",
    "- Well-suited for very large values of \\(n\\).\n",
    "\n",
    "> **Time Complexity**: $O(\\log n)$ - Due to matrix exponentiation\n",
    ">\n",
    "> **Space Complexity**: $O(1)$ - Constant space"
   ]
  },
  {
   "cell_type": "code",
   "id": "66a7f1727732c6ed",
   "metadata": {},
   "source": [
    "def fib_matrix(n):\n",
    "    def matrix_mult(A, B):\n",
    "        return np.dot(A, B).tolist()\n",
    "\n",
    "    def matrix_power(matrix, p):\n",
    "        if p == 1:\n",
    "            return matrix\n",
    "        if p % 2 == 0:\n",
    "            half_pow = matrix_power(matrix, p // 2)\n",
    "            return matrix_mult(half_pow, half_pow)\n",
    "        else:\n",
    "            return matrix_mult(matrix, matrix_power(matrix, p - 1))\n",
    "\n",
    "    base_matrix = [[0, 1], [1, 1]]\n",
    "    result = matrix_power(base_matrix, n)\n",
    "    return result[0][1]"
   ],
   "outputs": [],
   "execution_count": null
  },
  {
   "cell_type": "code",
   "id": "89dc7dc49513c9c2",
   "metadata": {},
   "source": [
    "# Test the matrix exponentiation function with n = 10\n",
    "print(fib_matrix(10))  # Output: 55"
   ],
   "outputs": [],
   "execution_count": null
  },
  {
   "cell_type": "markdown",
   "id": "329b7fa00fe9535c",
   "metadata": {},
   "source": [
    "### **3.5 Binet’s Formula (Constant $O(1)$)**\n",
    "\n",
    "This method directly computes Fibonacci numbers using the Golden Ratio (Phi). While computationally $O(1)$, floating-point precision errors make it unreliable for large $n$. Based on the formula:\n",
    "\n",
    "$$\n",
    "F(n) = \\frac{\\varphi^n - (-\\varphi)^{-n}}{\\sqrt{5}}\n",
    "$$\n",
    "\n",
    "- Uses the closed-form equation derived from the Golden Ratio.\n",
    "- Extremely fast but suffers from precision errors for large $n$.\n",
    "\n",
    "> **Time Complexity**: $O(1)$ - Constant\n",
    ">\n",
    "> **Space Complexity**: $O(1)$ - Constant"
   ]
  },
  {
   "cell_type": "code",
   "id": "cc23b57fc6b06383",
   "metadata": {},
   "source": [
    "def fib_binet(n):\n",
    "    if n > 70:\n",
    "        return -1\n",
    "    phi = (1 + np.sqrt(5)) / 2\n",
    "    psi = (1 - np.sqrt(5)) / 2\n",
    "    return int((phi ** n - psi ** n) / np.sqrt(5))"
   ],
   "outputs": [],
   "execution_count": null
  },
  {
   "cell_type": "code",
   "id": "a095ed9f693d4d8c",
   "metadata": {},
   "source": [
    "# Test the Binet's formula function with n = 10\n",
    "print(fib_binet(10))  # Output: 55"
   ],
   "outputs": [],
   "execution_count": null
  },
  {
   "metadata": {},
   "cell_type": "markdown",
   "source": [
    "### **3.6 Binet's Formula with Decimal Precision (Constant $O(1)$)**\n",
    "\n",
    "To address the precision issues associated with floating-point arithmetic, the `decimal` module is used to compute Fibonacci numbers with higher precision. This approach is more reliable for large values of $n$. The precision is set to $n + 10$ to ensure accurate results.\n",
    "\n",
    "- Uses the `decimal` module for higher precision arithmetic.\n",
    "- Precision set to $n + 10$ to avoid floating-point errors.\n",
    "\n",
    "> **Time Complexity**: $O(1)$ - Constant\n",
    ">\n",
    "> **Space Complexity**: $O(1)$ - Constant"
   ],
   "id": "cae18bc8ca1f269"
  },
  {
   "metadata": {},
   "cell_type": "code",
   "source": [
    "def fib_binet_decimal(n):\n",
    "    if n > 1000:\n",
    "        return -1\n",
    "    getcontext().prec = n + 10  # Set precision\n",
    "    sqrt5 = Decimal(5).sqrt()\n",
    "    phi = (1 + sqrt5) / 2\n",
    "    psi = (1 - sqrt5) / 2\n",
    "    return int((phi ** n - psi ** n) / sqrt5)"
   ],
   "id": "fe36d63780de21a1",
   "outputs": [],
   "execution_count": null
  },
  {
   "metadata": {},
   "cell_type": "code",
   "source": [
    "# Test the Binet's formula with decimal function with n = 10\n",
    "print(fib_binet_decimal(10))  # Output: 55"
   ],
   "id": "7467d4dbe9498535",
   "outputs": [],
   "execution_count": null
  },
  {
   "cell_type": "markdown",
   "id": "b545bb8f694b342a",
   "metadata": {},
   "source": [
    "### **3.7 Optimized Iterative Approach ($O(n)$ Time, $O(1)$ Space)**\n",
    "\n",
    "This method only stores the last two computed values, reducing space complexity to $O(1)$. Efficient for computing Fibonacci numbers for large values of $n$.\n",
    "\n",
    "- Iterative method storing only the last two computed values.\n",
    "- The most memory-efficient approach while maintaining linear time complexity.\n",
    "\n",
    "> **Time Complexity**: $O(n)$ - Linear\n",
    ">\n",
    "> **Space Complexity**: $O(1)$ - Constant"
   ]
  },
  {
   "cell_type": "code",
   "id": "57a987195258f0e6",
   "metadata": {},
   "source": [
    "def fib_optimized(n):\n",
    "    if n <= 1:\n",
    "        return n\n",
    "    a, b = 0, 1\n",
    "    for _ in range(2, n + 1):\n",
    "        a, b = b, a + b\n",
    "    return b"
   ],
   "outputs": [],
   "execution_count": null
  },
  {
   "cell_type": "code",
   "id": "9723b69e14740ff1",
   "metadata": {},
   "source": [
    "# Test the optimized iterative function with n = 10\n",
    "print(fib_optimized(10))  # Output: 55"
   ],
   "outputs": [],
   "execution_count": null
  },
  {
   "metadata": {},
   "cell_type": "markdown",
   "source": [
    "### **3.8 Fast Doubling Method (Logarithmic $O(\\log n)$)**\n",
    "This method uses a fast doubling technique to compute Fibonacci numbers with logarithmic complexity. It is based on the following recursive formula:\n",
    "\n",
    "$$\n",
    "\\begin{align*}\n",
    "F(2k) & = F(k) \\cdot [2 \\cdot F(k+1) - F(k)] \\\\\n",
    "F(2k+1) & = F(k+1)^2 + F(k)^2\n",
    "\\end{align*}\n",
    "$$\n",
    "\n",
    "- Utilizes a fast doubling technique to compute Fibonacci numbers.\n",
    "- Achieves logarithmic time complexity $O(\\log n)$.\n",
    "\n",
    "> **Time Complexity**: $O(\\log n)$ - Logarithmic\n",
    ">\n",
    "> **Space Complexity**: $O(\\log n)$ - Recursive call stack"
   ],
   "id": "38aa4be7212e69c9"
  },
  {
   "metadata": {},
   "cell_type": "code",
   "source": [
    "def fib_fast_doubling(n):\n",
    "    def fib_doubling(k):\n",
    "        if k == 0:\n",
    "            return 0, 1\n",
    "        else:\n",
    "            a, b = fib_doubling(k // 2)\n",
    "            c = a * ((b << 1) - a)\n",
    "            d = a * a + b * b\n",
    "            if k & 1:\n",
    "                return d, c + d\n",
    "            else:\n",
    "                return c, d\n",
    "    return fib_doubling(n)[0]"
   ],
   "id": "b15cbbe140fa5b",
   "outputs": [],
   "execution_count": null
  },
  {
   "metadata": {},
   "cell_type": "code",
   "source": [
    "# Test the fast doubling function with n = 10\n",
    "print(fib_fast_doubling(10))  # Output: 55"
   ],
   "id": "81746af883f222c6",
   "outputs": [],
   "execution_count": null
  },
  {
   "cell_type": "markdown",
   "id": "97e78cdb69fb97fe",
   "metadata": {},
   "source": [
    "## **4. Experimental Setup**\n",
    "\n",
    "The empirical analysis of Fibonacci algorithms involves the following steps:\n",
    "1. **Input Values**: Define small and large sets for testing.\n",
    "2. **Performance Measurement**: Measure the execution time of each algorithm for different input sizes using Python’s `time` module.\n",
    "3. **Results Analysis**: Compare the performance of the algorithms using tables and graphs generated with the `pandas` and `matplotlib` libraries."
   ]
  },
  {
   "metadata": {},
   "cell_type": "code",
   "source": [
    "fib_methods = {\n",
    "    \"Recursive\": fib_recursive,\n",
    "    \"Memoized\": fib_memoized,\n",
    "    \"Iterative DP\": fib_iterative,\n",
    "    \"Matrix Exp\": fib_matrix,\n",
    "    \"Binet\": fib_binet,\n",
    "    \"Binet Decimal\": fib_binet_decimal,\n",
    "    \"Iterative O(1)\": fib_optimized,\n",
    "    \"Fast Doubling\": fib_fast_doubling\n",
    "}"
   ],
   "id": "6b6f50ce08ff9d98",
   "outputs": [],
   "execution_count": null
  },
  {
   "metadata": {},
   "cell_type": "markdown",
   "source": [
    "### **4.1 Input Values**\n",
    "\n",
    "The algorithms are tested on two sets of input values:\n",
    "\n",
    "- **Small Input Set**: $n = {1, 2, 3, \\ldots, 198}$\n",
    "  - Used to verify correctness and evaluate all eight methods. This set includes small to moderately sized inputs to ensure that each algorithm produces accurate results and to observe their performance on smaller scales.\n",
    "\n",
    "- **Large Input Set**: $n = {200, 300, 400, \\ldots, 20000}$\n",
    "  - Used to test the performance of fast methods. This set includes larger input sizes to evaluate the efficiency and scalability of the algorithms, particularly those designed to handle large values efficiently."
   ],
   "id": "43df1a0e6e03e876"
  },
  {
   "metadata": {},
   "cell_type": "code",
   "source": [
    "# Default input values for testing\n",
    "small_inputs = list(range(1, 199, 1))\n",
    "large_inputs = list(range(200, 20001, 100))\n",
    "test_inputs = small_inputs + large_inputs"
   ],
   "id": "e067b4350e05ea97",
   "outputs": [],
   "execution_count": null
  },
  {
   "metadata": {},
   "cell_type": "markdown",
   "source": [
    "### **4.2 Performance Measurement**\n",
    "\n",
    "To accurately measure the performance of each Fibonacci algorithm, the following steps are taken:\n",
    "\n",
    "1. **Execution Time Measurement**:\n",
    "   - The execution time for each method is measured using Python’s `time` module.\n",
    "   - The `time.perf_counter_ns()` function is used to capture the start and end times in nanoseconds for high precision.\n",
    "\n",
    "2. **Warm-up Runs**:\n",
    "   - Each method is executed a few times (default is 3) before the actual measurement to ensure that any initial setup overhead is minimized.\n",
    "\n",
    "3. **Multiple Trials**:\n",
    "   - Each method is tested multiple times (default is 10 trials) to obtain a reliable average execution time.\n",
    "   - The results from these trials are collected and analyzed to filter out any outliers.\n",
    "\n",
    "4. **Outlier Filtering**:\n",
    "   - Modified Z-scores and Interquartile Range (IQR) methods are used to identify and remove outliers from the collected execution times.\n",
    "   - This ensures that the reported execution times are not skewed by anomalous measurements.\n",
    "\n",
    "5. **Result Storage**:\n",
    "   - The execution times are stored in a structured table using the `pandas` library.\n",
    "   - This allows for easy manipulation and analysis of the results.\n",
    "\n",
    "The following code snippet demonstrates the implementation of the performance measurement process:"
   ],
   "id": "1a49e20b5db5f842"
  },
  {
   "metadata": {},
   "cell_type": "markdown",
   "source": [
    "## **5. Results and Analysis**\n",
    "\n",
    "The performance of the Fibonacci algorithms is evaluated based on the execution time for different input sizes. The results are presented in tabular format and visualized using graphs to highlight the trends."
   ],
   "id": "345612187c2b83a8"
  },
  {
   "metadata": {},
   "cell_type": "code",
   "source": [
    "# Run performance test\n",
    "df_results = test_algorithm_performance(\n",
    "    algorithms=fib_methods,\n",
    "    test_values=test_inputs,\n",
    "    param_name=\"N\",\n",
    "    trials=10\n",
    ")"
   ],
   "id": "8925dd82ad8b0343",
   "outputs": [],
   "execution_count": null
  },
  {
   "metadata": {},
   "cell_type": "markdown",
   "source": [
    "### **5.1 Execution Time Table**\n",
    "\n",
    "The table below presents the execution time (in nanoseconds) for each algorithm.\n",
    "> *Overflow = Too slow to complete or floating-point precision exceeded)*"
   ],
   "id": "ad0fe6ec9df3a95c"
  },
  {
   "metadata": {},
   "cell_type": "code",
   "source": [
    "# Display results in tabular format\n",
    "display(df_results)"
   ],
   "id": "ba0ab2ae43f176e0",
   "outputs": [],
   "execution_count": null
  },
  {
   "metadata": {},
   "cell_type": "code",
   "source": [
    "# Export results to CSV file\n",
    "export_results(df_results, directory_path)"
   ],
   "id": "77b8f8697af42626",
   "outputs": [],
   "execution_count": null
  },
  {
   "metadata": {},
   "cell_type": "markdown",
   "source": [
    "### **5.2 Performance Graph**\n",
    "\n",
    "The following graphs visualizes the execution time of different Fibonacci algorithms for varying input sizes. The y-axis is plotted on a logarithmic scale to accommodate the wide range of execution times."
   ],
   "id": "9f6868ebcbfc0474"
  },
  {
   "cell_type": "code",
   "id": "cafa7813d885bc71",
   "metadata": {},
   "source": [
    "# Generate and save the plots\n",
    "plot_performance_graphs(\n",
    "    df=df_results,\n",
    "    path=plots_path,\n",
    "    param_name=\"N\",\n",
    "    title_prefix=\"Fibonacci Algorithms\",\n",
    "    filename_prefix=\"fibonacci\",\n",
    "    all_algorithms=[\"Matrix Exp\", \"Iterative O(1)\", \"Iterative DP\", \"Fast Doubling\", \"Memoized\", \"Binet Decimal\", \"Binet\", \"Recursive\"],\n",
    "    fast_algorithms=[\"Matrix Exp\", \"Iterative O(1)\", \"Iterative DP\", \"Fast Doubling\", \"Memoized\", \"Binet Decimal\"],\n",
    "    display_plots=True\n",
    ")"
   ],
   "outputs": [],
   "execution_count": null
  },
  {
   "cell_type": "markdown",
   "id": "6c14f6d99a0a8ae1",
   "metadata": {},
   "source": [
    "## **6. Conclusion**\n",
    "\n",
    "This study empirically analyzed eight different algorithms for computing the Fibonacci sequence and compared their performance characteristics. The key findings and recommendations based on the results are summarized below.\n",
    "\n",
    "### **6.1 Key Findings**\n",
    "\n",
    "The empirical analysis of Fibonacci computation methods highlights significant performance variations:\n",
    "\n",
    "- 🚀 **Recursive Approach**: Highly inefficient due to exponential time complexity $O(2^n)$, making it impractical for large $n$.\n",
    "- 🛠 **Memoization & Iterative DP**: Both offer linear time complexity $O(n)$ and effectively reduce redundant calculations, making them suitable for moderate input sizes.\n",
    "- ⚡ **Matrix Exponentiation**: The most efficient method for large $n$, achieving logarithmic complexity $O(\\log n)$.\n",
    "- 🔢 **Binet’s Formula**: The fastest method in theory but unreliable for large $n$ due to floating-point precision errors.\n",
    "- 🎯 **Optimized Iterative Approach $O(1)$ Space**: Provides a balance between speed and memory efficiency, making it a practical choice for real-world applications.\n",
    "- 🔄 **Fast Doubling Method**: Achieves logarithmic time complexity $O(\\log n)$, making it highly efficient for large $n$.\n",
    "\n",
    "### **6.2 Choosing the Optimal Algorithm**\n",
    "\n",
    "The table below outlines the best algorithm based on different use cases:\n",
    "\n",
    "| **Use Case**                   | **Recommended Algorithm**              | **Rationale**                                        |\n",
    "|--------------------------------|----------------------------------------|------------------------------------------------------|\n",
    "| **Small $(n \\leq 30)$**        | Recursive (for learning purposes)      | Simple and educational, but inefficient              |\n",
    "| **Moderate $(n < 10^5)$**      | Memoization (Top-Down DP)              | Eliminates redundant computations, runs in $O(n)$    |\n",
    "| **Large $(n < 10^6)$**         | Iterative DP or Optimized Iterative    | Efficient, avoids recursion overhead                 |\n",
    "| **Very Large $(n > 10^6)$**    | Matrix Exponentiation or Fast Doubling | Fastest for extremely large $n$, runs in $O(\\log n)$ |\n",
    "| **Quick Approximation Needed** | Binet’s Formula (for small $n$ only)   | Instantaneous but unreliable for large $n$           |\n",
    "\n",
    "### **6.3 Final Remarks**\n",
    "\n",
    "This study underscores the importance of **choosing the right algorithm based on problem constraints**. While **recursive methods** are useful for learning, they become impractical for large input sizes. **Memoization and Iterative DP** improve efficiency but remain **linear in complexity**. **Matrix Exponentiation** and **Fast Doubling** provide the best trade-off between speed and scalability for extremely large numbers.\n",
    "\n",
    "---"
   ]
  },
  {
   "metadata": {},
   "cell_type": "markdown",
   "source": "> This study is part of the _**Empirical Analysis of Algorithms**_ repository. The complete source code and Jupyter notebooks are available on GitHub: [Empirical Analysis of Algorithms](https://github.com/sergedbs/algorithms-analysis).",
   "id": "185800bd21fd0826"
  }
 ],
 "metadata": {
  "kernelspec": {
   "display_name": "Python 3 (ipykernel)",
   "language": "python",
   "name": "python3"
  },
  "language_info": {
   "codemirror_mode": {
    "name": "ipython",
    "version": 3
   },
   "file_extension": ".py",
   "mimetype": "text/x-python",
   "name": "python",
   "nbconvert_exporter": "python",
   "pygments_lexer": "ipython3",
   "version": "3.12.4"
  }
 },
 "nbformat": 4,
 "nbformat_minor": 5
}
